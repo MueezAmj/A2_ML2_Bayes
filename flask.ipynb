{
 "cells": [
  {
   "cell_type": "code",
   "execution_count": 4,
   "id": "4022d75c-6296-4711-a1c9-3b46f2896c31",
   "metadata": {},
   "outputs": [
    {
     "ename": "FileNotFoundError",
     "evalue": "[Errno 2] No such file or directory: 'models/decision_tree_model.pkl'",
     "output_type": "error",
     "traceback": [
      "\u001b[1;31m---------------------------------------------------------------------------\u001b[0m",
      "\u001b[1;31mFileNotFoundError\u001b[0m                         Traceback (most recent call last)",
      "Cell \u001b[1;32mIn[4], line 8\u001b[0m\n\u001b[0;32m      5\u001b[0m app \u001b[38;5;241m=\u001b[39m Flask(\u001b[38;5;18m__name__\u001b[39m)\n\u001b[0;32m      7\u001b[0m \u001b[38;5;66;03m# Load trained models (ensure you have these trained models saved in .pkl format inside the models directory)\u001b[39;00m\n\u001b[1;32m----> 8\u001b[0m decision_tree_model \u001b[38;5;241m=\u001b[39m joblib\u001b[38;5;241m.\u001b[39mload(\u001b[38;5;124m\"\u001b[39m\u001b[38;5;124mmodels/decision_tree_model.pkl\u001b[39m\u001b[38;5;124m\"\u001b[39m)\n\u001b[0;32m      9\u001b[0m random_forest_model \u001b[38;5;241m=\u001b[39m joblib\u001b[38;5;241m.\u001b[39mload(\u001b[38;5;124m\"\u001b[39m\u001b[38;5;124mmodels/random_forest_model.pkl\u001b[39m\u001b[38;5;124m\"\u001b[39m)\n\u001b[0;32m     10\u001b[0m adaboost_model \u001b[38;5;241m=\u001b[39m joblib\u001b[38;5;241m.\u001b[39mload(\u001b[38;5;124m\"\u001b[39m\u001b[38;5;124mmodels/adaboost_model.pkl\u001b[39m\u001b[38;5;124m\"\u001b[39m)\n",
      "File \u001b[1;32m~\\anaconda3\\Lib\\site-packages\\joblib\\numpy_pickle.py:650\u001b[0m, in \u001b[0;36mload\u001b[1;34m(filename, mmap_mode)\u001b[0m\n\u001b[0;32m    648\u001b[0m         obj \u001b[38;5;241m=\u001b[39m _unpickle(fobj)\n\u001b[0;32m    649\u001b[0m \u001b[38;5;28;01melse\u001b[39;00m:\n\u001b[1;32m--> 650\u001b[0m     \u001b[38;5;28;01mwith\u001b[39;00m \u001b[38;5;28mopen\u001b[39m(filename, \u001b[38;5;124m'\u001b[39m\u001b[38;5;124mrb\u001b[39m\u001b[38;5;124m'\u001b[39m) \u001b[38;5;28;01mas\u001b[39;00m f:\n\u001b[0;32m    651\u001b[0m         \u001b[38;5;28;01mwith\u001b[39;00m _read_fileobject(f, filename, mmap_mode) \u001b[38;5;28;01mas\u001b[39;00m fobj:\n\u001b[0;32m    652\u001b[0m             \u001b[38;5;28;01mif\u001b[39;00m \u001b[38;5;28misinstance\u001b[39m(fobj, \u001b[38;5;28mstr\u001b[39m):\n\u001b[0;32m    653\u001b[0m                 \u001b[38;5;66;03m# if the returned file object is a string, this means we\u001b[39;00m\n\u001b[0;32m    654\u001b[0m                 \u001b[38;5;66;03m# try to load a pickle file generated with an version of\u001b[39;00m\n\u001b[0;32m    655\u001b[0m                 \u001b[38;5;66;03m# Joblib so we load it with joblib compatibility function.\u001b[39;00m\n",
      "\u001b[1;31mFileNotFoundError\u001b[0m: [Errno 2] No such file or directory: 'models/decision_tree_model.pkl'"
     ]
    }
   ],
   "source": [
    "from flask import Flask, render_template, request\n",
    "import numpy as np\n",
    "import joblib  # for loading the trained models\n",
    "\n",
    "app = Flask(__name__)\n",
    "\n",
    "# Load trained models (ensure you have these trained models saved in .pkl format inside the models directory)\n",
    "decision_tree_model = joblib.load(\"models/decision_tree_model.pkl\")\n",
    "random_forest_model = joblib.load(\"models/random_forest_model.pkl\")\n",
    "adaboost_model = joblib.load(\"models/adaboost_model.pkl\")\n",
    "xgboost_model = joblib.load(\"models/xgboost_model.pkl\")\n",
    "\n",
    "# Home page\n",
    "@app.route(\"/\")\n",
    "def home():\n",
    "    return render_template(\"new.html\")\n",
    "\n",
    "# Predict route\n",
    "@app.route(\"/predict\", methods=[\"POST\"])\n",
    "def predict():\n",
    "    try:\n",
    "        # Retrieve input data from the form\n",
    "        review_count = float(request.form['review_count'])\n",
    "        business_stars = float(request.form['business_stars'])\n",
    "        date_numeric = float(request.form['date_numeric'])\n",
    "        sentiment = float(request.form['sentiment'])\n",
    "        total_hours = float(request.form['total_hours'])\n",
    "        yelping_since_duration = float(request.form['yelping_since_duration'])\n",
    "        fans = float(request.form['fans'])\n",
    "\n",
    "        input_data = np.array([[review_count, business_stars, date_numeric, sentiment,\n",
    "                                total_hours, yelping_since_duration, fans]])\n",
    "\n",
    "        # Get predictions from all models\n",
    "        decision_tree_prediction = decision_tree_model.predict(input_data)[0]\n",
    "        random_forest_prediction = random_forest_model.predict(input_data)[0]\n",
    "        adaboost_prediction = adaboost_model.predict(input_data)[0]\n",
    "        xgboost_prediction = xgboost_model.predict(input_data)[0]\n",
    "\n",
    "        return render_template(\"new.html\",\n",
    "                               decision_tree_pred=f\"Decision Tree Prediction: {decision_tree_prediction}\",\n",
    "                               random_forest_pred=f\"Random Forest Prediction: {random_forest_prediction}\",\n",
    "                               adaboost_pred=f\"AdaBoost Prediction: {adaboost_prediction}\",\n",
    "                               xgboost_pred=f\"XGBoost Prediction: {xgboost_prediction}\")\n",
    "\n",
    "    except Exception as e:\n",
    "        return render_template(\"new.html\", error=f\"Error: {str(e)}\")\n",
    "\n",
    "if __name__ == \"__main__\":\n",
    "    app.run(debug=True)\n"
   ]
  },
  {
   "cell_type": "code",
   "execution_count": null,
   "id": "838ca159-a8cf-4a7b-83b8-5f8e80e79f42",
   "metadata": {},
   "outputs": [],
   "source": []
  }
 ],
 "metadata": {
  "kernelspec": {
   "display_name": "Python 3 (ipykernel)",
   "language": "python",
   "name": "python3"
  },
  "language_info": {
   "codemirror_mode": {
    "name": "ipython",
    "version": 3
   },
   "file_extension": ".py",
   "mimetype": "text/x-python",
   "name": "python",
   "nbconvert_exporter": "python",
   "pygments_lexer": "ipython3",
   "version": "3.11.7"
  }
 },
 "nbformat": 4,
 "nbformat_minor": 5
}
